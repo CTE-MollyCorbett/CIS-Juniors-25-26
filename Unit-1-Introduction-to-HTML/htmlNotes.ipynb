{
 "cells": [
  {
   "cell_type": "markdown",
   "id": "169f2a7b",
   "metadata": {},
   "source": [
    "### Introduction to HTML\n",
    "\n",
    "* "
   ]
  },
  {
   "cell_type": "markdown",
   "id": "b4dc2142",
   "metadata": {},
   "source": [
    "### Web Browsers\n",
    "\n",
    "* Software used for browsing, reading, and translating web documents\n",
    "* Examples of web browsers:\n",
    "    * Google Chrome\n",
    "    * Firefox\n",
    "    * Microsoft Edge\n",
    "    * Opera GX\n",
    "    * Duck Duck Go\n",
    "    * Safari\n",
    "    * Brave\n",
    "    * Internet Explorer (MS) - Depricated\n",
    "    * Netscape - Depricated\n",
    "* Why you do not use old or UN-Updated browsers\n",
    "    * Security - security updates"
   ]
  },
  {
   "cell_type": "markdown",
   "id": "421aa8ce",
   "metadata": {},
   "source": [
    "### HTML Skeleton/Structure\n",
    "\n",
    "#### See index.html in this folder\n",
    "\n",
    "### Structure of an HTML Tag:\n",
    "\n",
    "< meta charset=\"UTF-8\" >\n",
    "\n",
    "* Tag name\n",
    "* Attribute(s)\n",
    "* Attribute Values"
   ]
  },
  {
   "cell_type": "markdown",
   "id": "1fbeaec3",
   "metadata": {},
   "source": [
    "### Key Concepts of HTML\n",
    "\n",
    "* Most HTML Tags have an Opening & Closing Tag - but not all\n",
    "* HTML Elements - These are created by a complete pair of tags with conctent\n",
    "* Attributes - Additionals information about the Elements\n",
    "\n",
    "#### Essential HTML Elements:\n",
    "\n",
    "* < h1 >< /h1 > through < h6 >< /h6 > - Headings, H1 is the largest by default, H6 is the smallest\n",
    "* < p >< /p > - Paragraph element\n",
    "* < br > - Line Break"
   ]
  },
  {
   "cell_type": "markdown",
   "id": "7300b648",
   "metadata": {},
   "source": []
  }
 ],
 "metadata": {
  "language_info": {
   "name": "python"
  }
 },
 "nbformat": 4,
 "nbformat_minor": 5
}
